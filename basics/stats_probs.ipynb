{
 "cells": [
  {
   "cell_type": "markdown",
   "id": "a9a7c4b1-972e-4eee-b312-2173190ba491",
   "metadata": {},
   "source": [
    "# Statistics & Probability"
   ]
  },
  {
   "cell_type": "code",
   "execution_count": 2,
   "id": "8f34e2ec-128d-4318-a6a7-d017dc561a33",
   "metadata": {},
   "outputs": [],
   "source": [
    "import pandas as pd"
   ]
  },
  {
   "cell_type": "markdown",
   "id": "45337894-1be6-426d-b3fe-a16fadcacf3a",
   "metadata": {},
   "source": [
    "## Basic Probability"
   ]
  },
  {
   "cell_type": "markdown",
   "id": "a89009ee-9a2c-498f-adb3-fd19c156c207",
   "metadata": {},
   "source": [
    "### Joint, Marginal & Conditional Probability"
   ]
  },
  {
   "cell_type": "code",
   "execution_count": 8,
   "id": "2ab0d7e6-9531-4343-b2c0-7a0f9992a77d",
   "metadata": {},
   "outputs": [],
   "source": [
    "hbolist = [[80, 120], [100, 25], [50, 125]]\n",
    "shows = [\"GoT\",\"West World\",\"Other\"]"
   ]
  },
  {
   "cell_type": "code",
   "execution_count": 9,
   "id": "712292cc-a6c8-48fc-b7e2-f28220dd45fc",
   "metadata": {},
   "outputs": [],
   "source": [
    "hbo_df = pd.DataFrame(hbolist, columns=[\"Male\", \"Female\"])"
   ]
  },
  {
   "cell_type": "code",
   "execution_count": 10,
   "id": "c4be1657-c835-49cb-aa39-52c419b82c45",
   "metadata": {},
   "outputs": [],
   "source": [
    "hbo_df.index=pd.Series(shows)"
   ]
  },
  {
   "cell_type": "code",
   "execution_count": 11,
   "id": "12402c62-6d1c-4254-b6a4-c8651a1f76cb",
   "metadata": {},
   "outputs": [
    {
     "data": {
      "text/html": [
       "<div>\n",
       "<style scoped>\n",
       "    .dataframe tbody tr th:only-of-type {\n",
       "        vertical-align: middle;\n",
       "    }\n",
       "\n",
       "    .dataframe tbody tr th {\n",
       "        vertical-align: top;\n",
       "    }\n",
       "\n",
       "    .dataframe thead th {\n",
       "        text-align: right;\n",
       "    }\n",
       "</style>\n",
       "<table border=\"1\" class=\"dataframe\">\n",
       "  <thead>\n",
       "    <tr style=\"text-align: right;\">\n",
       "      <th></th>\n",
       "      <th>Male</th>\n",
       "      <th>Female</th>\n",
       "    </tr>\n",
       "  </thead>\n",
       "  <tbody>\n",
       "    <tr>\n",
       "      <th>GoT</th>\n",
       "      <td>80</td>\n",
       "      <td>120</td>\n",
       "    </tr>\n",
       "    <tr>\n",
       "      <th>West World</th>\n",
       "      <td>100</td>\n",
       "      <td>25</td>\n",
       "    </tr>\n",
       "    <tr>\n",
       "      <th>Other</th>\n",
       "      <td>50</td>\n",
       "      <td>125</td>\n",
       "    </tr>\n",
       "  </tbody>\n",
       "</table>\n",
       "</div>"
      ],
      "text/plain": [
       "            Male  Female\n",
       "GoT           80     120\n",
       "West World   100      25\n",
       "Other         50     125"
      ]
     },
     "execution_count": 11,
     "metadata": {},
     "output_type": "execute_result"
    }
   ],
   "source": [
    "hbo_df"
   ]
  },
  {
   "cell_type": "markdown",
   "id": "a32dfa24-0528-4661-86c8-3cc2095a6adb",
   "metadata": {},
   "source": [
    "#### Joint Probability"
   ]
  },
  {
   "cell_type": "code",
   "execution_count": 13,
   "id": "8ba05b8f-8c50-4dfb-9214-defb31facbe3",
   "metadata": {},
   "outputs": [
    {
     "data": {
      "text/html": [
       "<div>\n",
       "<style scoped>\n",
       "    .dataframe tbody tr th:only-of-type {\n",
       "        vertical-align: middle;\n",
       "    }\n",
       "\n",
       "    .dataframe tbody tr th {\n",
       "        vertical-align: top;\n",
       "    }\n",
       "\n",
       "    .dataframe thead th {\n",
       "        text-align: right;\n",
       "    }\n",
       "</style>\n",
       "<table border=\"1\" class=\"dataframe\">\n",
       "  <thead>\n",
       "    <tr style=\"text-align: right;\">\n",
       "      <th></th>\n",
       "      <th>Male</th>\n",
       "      <th>Female</th>\n",
       "    </tr>\n",
       "  </thead>\n",
       "  <tbody>\n",
       "    <tr>\n",
       "      <th>GoT</th>\n",
       "      <td>0.16</td>\n",
       "      <td>0.24</td>\n",
       "    </tr>\n",
       "    <tr>\n",
       "      <th>West World</th>\n",
       "      <td>0.20</td>\n",
       "      <td>0.05</td>\n",
       "    </tr>\n",
       "    <tr>\n",
       "      <th>Other</th>\n",
       "      <td>0.10</td>\n",
       "      <td>0.25</td>\n",
       "    </tr>\n",
       "  </tbody>\n",
       "</table>\n",
       "</div>"
      ],
      "text/plain": [
       "            Male  Female\n",
       "GoT         0.16    0.24\n",
       "West World  0.20    0.05\n",
       "Other       0.10    0.25"
      ]
     },
     "execution_count": 13,
     "metadata": {},
     "output_type": "execute_result"
    }
   ],
   "source": [
    "hbo_df_jp = hbo_df/500\n",
    "hbo_df_jp"
   ]
  },
  {
   "cell_type": "markdown",
   "id": "0bd1a191-f1fc-4689-ab55-35a471f6982c",
   "metadata": {},
   "source": [
    "#### Marginal Probability"
   ]
  },
  {
   "cell_type": "code",
   "execution_count": 25,
   "id": "6046bfb0-e6c2-43d2-9e34-4f71dd9c6432",
   "metadata": {},
   "outputs": [
    {
     "name": "stdout",
     "output_type": "stream",
     "text": [
      "marginal probability for GoT: 0.4\n",
      "marginal probability for West World: 0.25\n",
      "marginal probability for Other: 0.35\n"
     ]
    }
   ],
   "source": [
    "for idx in hbo_df_jp.index:\n",
    "    print(f\"marginal probability for {idx}: {sum(hbo_df_jp.loc[idx])}\")"
   ]
  },
  {
   "cell_type": "code",
   "execution_count": 26,
   "id": "5a60294f-0d23-4522-9929-c08759b0d899",
   "metadata": {},
   "outputs": [
    {
     "name": "stdout",
     "output_type": "stream",
     "text": [
      "marginal probability for Male: 0.46\n",
      "marginal probability for Female: 0.54\n"
     ]
    }
   ],
   "source": [
    "for col in hbo_df_jp.columns:\n",
    "    print(f\"marginal probability for {col}: {round(sum(hbo_df_jp[col]), 2)}\")"
   ]
  },
  {
   "cell_type": "markdown",
   "id": "423f32f7-a648-43b5-8124-f8d3757b7a35",
   "metadata": {},
   "source": [
    "#### Union\n",
    "\n",
    "$ P(A \\cup B) = P(A) + P(B) - P(A \\cap B) $"
   ]
  },
  {
   "cell_type": "markdown",
   "id": "7cae44dd-3113-48f8-9e63-c29ee84995b6",
   "metadata": {},
   "source": [
    "Q: probability of being male **OR** preferring west world\n",
    "\n",
    "$ P(Male \\cup West World) = P(Male) + P(West World) - P(Male \\cap West World) $\n",
    "\n",
    "$ P(Male \\cup West World) = P(Male) + P(Female \\cap West World)$\n",
    "\n",
    "$ \\cup = Union $<br>\n",
    "$ \\cap = Intersection $"
   ]
  },
  {
   "cell_type": "code",
   "execution_count": 32,
   "id": "a5fbfa4f-5700-4160-894c-05ebe75343d3",
   "metadata": {},
   "outputs": [
    {
     "name": "stdout",
     "output_type": "stream",
     "text": [
      "P(Male): 0.45999999999999996 + P(Female & WestWorld): 0.05\n"
     ]
    },
    {
     "data": {
      "text/plain": [
       "0.51"
      ]
     },
     "execution_count": 32,
     "metadata": {},
     "output_type": "execute_result"
    }
   ],
   "source": [
    "print(f'P(Male): {sum(hbo_df_jp[\"Male\"])} + P(Female & WestWorld): {hbo_df_jp.loc[\"West World\"][\"Female\"]}')\n",
    "sum(hbo_df_jp[\"Male\"]) + hbo_df_jp.loc[\"West World\"][\"Female\"]"
   ]
  },
  {
   "cell_type": "markdown",
   "id": "de48b6f2-ac7e-417d-9412-e6ff58d5fe47",
   "metadata": {},
   "source": [
    "#### Conditional Probability\n",
    "\n",
    "$ P(A|B) = \\displaystyle \\frac{P(A \\cap B)}{P(B))} $"
   ]
  },
  {
   "cell_type": "markdown",
   "id": "c4514f08-5f78-48b6-a7f3-f3d35f26646a",
   "metadata": {},
   "source": [
    "Q: Noni got a subscription. What is the chance that her favourite show will be GoT?"
   ]
  },
  {
   "cell_type": "code",
   "execution_count": 34,
   "id": "c0e2308f-09cf-4602-9716-7ee0d9aa762f",
   "metadata": {},
   "outputs": [
    {
     "name": "stdout",
     "output_type": "stream",
     "text": [
      "0.24 / 0.54\n",
      "0.4444444444444444\n"
     ]
    }
   ],
   "source": [
    "print(f'{hbo_df_jp.loc[\"GoT\"][\"Female\"]} / {sum(hbo_df_jp[\"Female\"])}')\n",
    "print(hbo_df_jp.loc[\"GoT\"][\"Female\"]/sum(hbo_df_jp[\"Female\"]))"
   ]
  },
  {
   "cell_type": "code",
   "execution_count": 35,
   "id": "b7222130-6ae3-484f-9c4f-a1eda3c47fe4",
   "metadata": {},
   "outputs": [
    {
     "data": {
      "text/html": [
       "<div>\n",
       "<style scoped>\n",
       "    .dataframe tbody tr th:only-of-type {\n",
       "        vertical-align: middle;\n",
       "    }\n",
       "\n",
       "    .dataframe tbody tr th {\n",
       "        vertical-align: top;\n",
       "    }\n",
       "\n",
       "    .dataframe thead th {\n",
       "        text-align: right;\n",
       "    }\n",
       "</style>\n",
       "<table border=\"1\" class=\"dataframe\">\n",
       "  <thead>\n",
       "    <tr style=\"text-align: right;\">\n",
       "      <th></th>\n",
       "      <th>Male</th>\n",
       "      <th>Female</th>\n",
       "      <th>P_female</th>\n",
       "    </tr>\n",
       "  </thead>\n",
       "  <tbody>\n",
       "    <tr>\n",
       "      <th>GoT</th>\n",
       "      <td>0.16</td>\n",
       "      <td>0.24</td>\n",
       "      <td>0.444444</td>\n",
       "    </tr>\n",
       "    <tr>\n",
       "      <th>West World</th>\n",
       "      <td>0.20</td>\n",
       "      <td>0.05</td>\n",
       "      <td>0.092593</td>\n",
       "    </tr>\n",
       "    <tr>\n",
       "      <th>Other</th>\n",
       "      <td>0.10</td>\n",
       "      <td>0.25</td>\n",
       "      <td>0.462963</td>\n",
       "    </tr>\n",
       "  </tbody>\n",
       "</table>\n",
       "</div>"
      ],
      "text/plain": [
       "            Male  Female  P_female\n",
       "GoT         0.16    0.24  0.444444\n",
       "West World  0.20    0.05  0.092593\n",
       "Other       0.10    0.25  0.462963"
      ]
     },
     "execution_count": 35,
     "metadata": {},
     "output_type": "execute_result"
    }
   ],
   "source": [
    "hbo_df_jp[\"P_female\"] = hbo_df_jp[\"Female\"]/sum(hbo_df_jp[\"Female\"])\n",
    "hbo_df_jp"
   ]
  },
  {
   "cell_type": "code",
   "execution_count": 36,
   "id": "6463278e-29d4-48a8-a8dc-4e72f7803d3c",
   "metadata": {},
   "outputs": [
    {
     "data": {
      "text/html": [
       "<div>\n",
       "<style scoped>\n",
       "    .dataframe tbody tr th:only-of-type {\n",
       "        vertical-align: middle;\n",
       "    }\n",
       "\n",
       "    .dataframe tbody tr th {\n",
       "        vertical-align: top;\n",
       "    }\n",
       "\n",
       "    .dataframe thead th {\n",
       "        text-align: right;\n",
       "    }\n",
       "</style>\n",
       "<table border=\"1\" class=\"dataframe\">\n",
       "  <thead>\n",
       "    <tr style=\"text-align: right;\">\n",
       "      <th></th>\n",
       "      <th>Male</th>\n",
       "      <th>Female</th>\n",
       "      <th>P_female</th>\n",
       "      <th>P_male</th>\n",
       "    </tr>\n",
       "  </thead>\n",
       "  <tbody>\n",
       "    <tr>\n",
       "      <th>GoT</th>\n",
       "      <td>0.16</td>\n",
       "      <td>0.24</td>\n",
       "      <td>0.444444</td>\n",
       "      <td>0.347826</td>\n",
       "    </tr>\n",
       "    <tr>\n",
       "      <th>West World</th>\n",
       "      <td>0.20</td>\n",
       "      <td>0.05</td>\n",
       "      <td>0.092593</td>\n",
       "      <td>0.434783</td>\n",
       "    </tr>\n",
       "    <tr>\n",
       "      <th>Other</th>\n",
       "      <td>0.10</td>\n",
       "      <td>0.25</td>\n",
       "      <td>0.462963</td>\n",
       "      <td>0.217391</td>\n",
       "    </tr>\n",
       "  </tbody>\n",
       "</table>\n",
       "</div>"
      ],
      "text/plain": [
       "            Male  Female  P_female    P_male\n",
       "GoT         0.16    0.24  0.444444  0.347826\n",
       "West World  0.20    0.05  0.092593  0.434783\n",
       "Other       0.10    0.25  0.462963  0.217391"
      ]
     },
     "execution_count": 36,
     "metadata": {},
     "output_type": "execute_result"
    }
   ],
   "source": [
    "hbo_df_jp[\"P_male\"] = hbo_df_jp[\"Male\"]/sum(hbo_df_jp[\"Male\"])\n",
    "hbo_df_jp"
   ]
  },
  {
   "cell_type": "markdown",
   "id": "c3e20281-6c89-45cc-ac47-fef1cf13639a",
   "metadata": {},
   "source": [
    "Q: Given that a subscriber's favorite show is West World, what is the probability that they are male?"
   ]
  },
  {
   "cell_type": "code",
   "execution_count": 41,
   "id": "59a650e0-fea7-4fa0-9205-913f7a9ec54d",
   "metadata": {},
   "outputs": [
    {
     "name": "stdout",
     "output_type": "stream",
     "text": [
      "0.2 / 0.25\n"
     ]
    },
    {
     "data": {
      "text/plain": [
       "0.8"
      ]
     },
     "execution_count": 41,
     "metadata": {},
     "output_type": "execute_result"
    }
   ],
   "source": [
    "print(f'{hbo_df_jp.loc[\"West World\"][\"Male\"]} / {sum(hbo_df_jp.loc[\"West World\"][[\"Male\", \"Female\"]])}')\n",
    "hbo_df_jp.loc[\"West World\"][\"Male\"] / sum(hbo_df_jp.loc[\"West World\"][[\"Male\", \"Female\"]])"
   ]
  },
  {
   "cell_type": "markdown",
   "id": "f5503fbd-a194-4015-8cff-923a989b265d",
   "metadata": {},
   "source": [
    "#### Independence"
   ]
  },
  {
   "cell_type": "markdown",
   "id": "a4d6c9cb-5328-43d8-bca8-1e4c5cbafe49",
   "metadata": {},
   "source": [
    "If independent, then:\n",
    "$ P(A|B) = P(A) $"
   ]
  },
  {
   "cell_type": "markdown",
   "id": "ade9bac5-cb9d-442c-b0ea-76645ba56fd0",
   "metadata": {},
   "source": [
    "$ P(West World | Female) = 0.05/0.54 = 0.093 $\n",
    "$ P(West World) = 0.25 $\n",
    "\n",
    "Therefore, **NOT INDEPENDENT** as 0.093 != 0.25"
   ]
  },
  {
   "cell_type": "markdown",
   "id": "53fc29fd-ba2b-48dd-810c-1d1cf24ad161",
   "metadata": {},
   "source": [
    "another way:\n",
    "\n",
    "$ P(A \\cap B) = P(A) * P(B) $\n",
    "\n",
    "$ P(West World \\cap Female) = 0.05 $<br>\n",
    "$ P(West World) * P(Female) = 0.54 * 0.25 = 0.14 $\n",
    "\n",
    "Therefore, **NOT INDEPENDENT** as 0.05 != 0.14"
   ]
  },
  {
   "cell_type": "markdown",
   "id": "a3dfe4f9-e479-460b-b9b1-28dc70ce756b",
   "metadata": {},
   "source": [
    "## Probability Distributions"
   ]
  },
  {
   "cell_type": "markdown",
   "id": "195f8a61-ad91-4d2c-abc2-b24c633f24d0",
   "metadata": {},
   "source": [
    "### PMF, PDF, CDF\n",
    "\n",
    "**PMF** Probability mass function (**discrete** variables)\n",
    "\n",
    "**PDF** Probability density function (**continuous** variables)\n",
    "\n",
    "**CDF** Cumulative distribution function"
   ]
  },
  {
   "cell_type": "markdown",
   "id": "be404e6b-ae8a-45e6-86d8-ed21698cf73d",
   "metadata": {},
   "source": [
    "#### PMF & CDF (discrete)\n",
    "\n",
    "dice has 6 sides, every side has a probability of 1/6\n",
    "\n",
    "cumulative probability accumulates the probabilities for every subsequent number.<br>\n",
    "P(1) = 1/6<br>\n",
    "P(2) = 2/6<br>\n",
    "P(3) = 3/6 etc\n",
    "\n",
    "The final Probability has to be 1\n"
   ]
  },
  {
   "cell_type": "markdown",
   "id": "ededa6de-2b08-482b-8ace-fc32bb1b18dd",
   "metadata": {},
   "source": [
    "If the dice is rigged, that it can not roll a 3 or a 4:<br>\n",
    "P(1) = 1/4<br>\n",
    "P(2) = 1/4<br>\n",
    "P(3) = 0<br>\n",
    "etc\n",
    "\n",
    "the cumulative probabilities will be:\n",
    "\n",
    "1/4, 2/4, 2/4, 2/4, 3/4, 4/4"
   ]
  },
  {
   "cell_type": "markdown",
   "id": "fa40de8f-c434-41a5-8f31-34468a49a650",
   "metadata": {},
   "source": [
    "#### PDF & CDF (continuous)"
   ]
  },
  {
   "cell_type": "markdown",
   "id": "21b6fa15-f98e-4570-9415-3b4bdd630d68",
   "metadata": {},
   "source": [
    "fictional dataset, height of women.\n",
    "\n",
    "mean of 165 on x axis with y axis gradient of 0.04, gaussian distribution bell curve\n",
    "\n",
    "Cumulative curve is S-shaped.<br>\n",
    "CDF curve at 165cm in x is 0.5 in y -> 50%<br>\n",
    "\n",
    "on the PDF, to the left of the 165cm mark, the area under the curve is 50%.<br>\n",
    "at 25% area, the x value is 158cm -> on the CDF, at 158cm on x, y is 0.25.\n",
    "\n",
    "For the CDF: the higher the gradient, the higher the density.<br>\n",
    "\n",
    "To calculate gradient:<br>\n",
    "take two close points:\n",
    "164, 0.46 & 166, 0.54\n",
    "\n",
    "$ \\displaystyle \\frac{rise}{run} = \\frac{0.54-0.46}{166-164} = \\frac{0.08}{2} = 0.04$\n",
    "\n",
    "Ergo:<br>\n",
    "**the gradient of the CDF $F(x)$ is the PDF $f(x)$<br>**\n",
    "$ \\displaystyle \\frac{dF(x)}{dx} = f(x) $<br>\n",
    "&<br>\n",
    "**the Area to the left in the PDF $f(x)$ is the CDF $F(x)$**<br>\n",
    "$ \\int^x_{-\\infty}f(x)dx = F(x) $"
   ]
  },
  {
   "cell_type": "markdown",
   "id": "1b2d56d3-2ed4-45e1-9692-9d75c12322d3",
   "metadata": {},
   "source": [
    "### Binomial Distribution"
   ]
  },
  {
   "cell_type": "markdown",
   "id": "fce8fcfa-fbf9-4a14-849a-71823ff80809",
   "metadata": {},
   "source": [
    "Setting: <br>\n",
    "Study shows color blindness affects about 8% of men. <br>\n",
    "A random sample of 10 men is taken.\n",
    "\n",
    "*Pre-requisites of a binomial distribution:*\n",
    "\n",
    "* There are two potential outcomes per **trial**\n",
    "* The probability of **success** (p) is the same across all trials\n",
    "* The number of trials (n) is fixed\n",
    "* Each trial is **independent**.\n",
    "\n",
    "- trial: each man in this sample\n",
    "- success: in this case, having color blindness = success\n",
    "- color blindness in one man doesn't affect any other\n",
    "\n",
    "$ \\displaystyle P(X = x) = {^nC_x}p^x(1-p)^{n-x}$\n",
    "\n",
    "$ \\displaystyle P(x) = \\left( \\begin{array}{c} n \\\\ x \\end{array} \\right)p^xq^{n-x} = \\frac{n!}{(n-x)!x!}p^xq^{n-x} $"
   ]
  },
  {
   "cell_type": "markdown",
   "id": "a58ff350-336e-4940-84b9-c79722b7e40c",
   "metadata": {},
   "source": [
    "**Tasks**<br>\n",
    "Find the probability that:\n",
    "* All 10 men are color blind\n",
    "* No men are color blind\n",
    "* Exactly 2 men are color blind\n",
    "* At least 2 men are color blind"
   ]
  },
  {
   "cell_type": "code",
   "execution_count": 49,
   "id": "2448d32c-d4ee-406a-a65d-0076d51be9f6",
   "metadata": {},
   "outputs": [],
   "source": [
    "from math import factorial as fact\n",
    "\n",
    "def binodist(x, n, p):\n",
    "    q = 1-p\n",
    "    result = (fact(n)/(fact(n-x)*fact(x)))*((p**x)*q**(n-x))\n",
    "    return result"
   ]
  },
  {
   "cell_type": "code",
   "execution_count": 54,
   "id": "fd3b66b5-397b-4feb-addc-047ed8278ea5",
   "metadata": {},
   "outputs": [
    {
     "name": "stdout",
     "output_type": "stream",
     "text": [
      "Probability of all 10 men being color blind: 1.0737418240000003e-11\n"
     ]
    }
   ],
   "source": [
    "print(f\"Probability of all 10 men being color blind: {binodist(10, 10, 0.08)}\")"
   ]
  },
  {
   "cell_type": "code",
   "execution_count": 55,
   "id": "4ab7e754-7597-4af8-97bd-196e747ff56b",
   "metadata": {},
   "outputs": [
    {
     "name": "stdout",
     "output_type": "stream",
     "text": [
      "Probability of none being color blind: 0.4343884542236323\n"
     ]
    }
   ],
   "source": [
    "print(f\"Probability of none being color blind: {binodist(0, 10, 0.08)}\")"
   ]
  },
  {
   "cell_type": "code",
   "execution_count": 56,
   "id": "c7a2c329-cf69-446c-94fa-fdaf16298e13",
   "metadata": {},
   "outputs": [
    {
     "name": "stdout",
     "output_type": "stream",
     "text": [
      "Probability of exactly 2 men being color blind: 0.14780703546361781\n"
     ]
    }
   ],
   "source": [
    "print(f\"Probability of exactly 2 men being color blind: {binodist(2, 10, 0.08)}\")"
   ]
  },
  {
   "cell_type": "code",
   "execution_count": 58,
   "id": "c24d1dcc-6c11-40c5-8561-489de12df00e",
   "metadata": {},
   "outputs": [
    {
     "name": "stdout",
     "output_type": "stream",
     "text": [
      "Probability of at least 2 men being color blind: 0.1878824551471222\n",
      "control: 0.18788245514712262\n"
     ]
    }
   ],
   "source": [
    "prob_sum = 0\n",
    "for i in range(2):\n",
    "    prob_sum += binodist(i, 10, 0.08)\n",
    "\n",
    "prob = 1 - prob_sum\n",
    "\n",
    "print(f\"Probability of at least 2 men being color blind: {prob}\")\n",
    "\n",
    "# control:\n",
    "\n",
    "prob_sum = 0\n",
    "for i in range(2, 11):\n",
    "    prob_sum += binodist(i, 10, 0.08)\n",
    "\n",
    "print(f\"control: {prob_sum}\")"
   ]
  },
  {
   "cell_type": "markdown",
   "id": "5a954351-8919-46e3-96be-b5d4fad7ba52",
   "metadata": {},
   "source": [
    "**Further tasks**\n",
    "* Find the expected number of color blind men in the sample\n",
    "* Find the standard deviation of the number of color blind men in the sample"
   ]
  },
  {
   "cell_type": "markdown",
   "id": "6266b67b-c726-4656-9b64-67eb797fe653",
   "metadata": {},
   "source": [
    "Expected number:<br>\n",
    "\n",
    "$ E(X) = n * p $\n",
    "\n",
    "$ E(X) = 10 * 0.08 $\n",
    "\n",
    "Result: *0.8* -> mean of the distribution"
   ]
  },
  {
   "cell_type": "markdown",
   "id": "38c2f391-5d92-43c3-9eb6-d0508bf83288",
   "metadata": {},
   "source": [
    "Standard deviation of the binomial sample:<br>\n",
    "\n",
    "$ SD(X) = \\sqrt{V(X)} $\n",
    "\n",
    "$ V(X) = n*p*(1-p) $\n",
    "\n",
    "$ V(X) = 10*0.08*(1-0.08) $\n",
    "\n",
    "$ V(X) = 0.736 $\n",
    "\n",
    "$ SD(X) = \\sqrt{0.736} = 0.858$"
   ]
  },
  {
   "cell_type": "markdown",
   "id": "7bdf399e-5c5e-45e4-91c6-44d0f578aeb2",
   "metadata": {},
   "source": [
    "### Poisson Distribution\n",
    "\n",
    "*Overview:*\n",
    "* **Discrete** distribution\n",
    "* Describes the number of **events** occuring in a fixed time interval or **region of opportunity**\n",
    "* Requires only one parameter, $ \\lambda $ (expected number of events per time interval)\n",
    "* Bounded by 0 and $ \\infty $\n",
    "\n",
    "*Assumptions*\n",
    "* The rate at which events occur is constant\n",
    "* The occurrence of one event does not affect the occurrence of a subsequent event (i.e. events are independent)\n",
    "\n",
    "**PMF**:\n",
    "\n",
    "$ \\displaystyle P(X = x) = \\frac{e^{-\\lambda}\\lambda^x }{x!} $"
   ]
  },
  {
   "cell_type": "code",
   "execution_count": 60,
   "id": "e0ecffbf-f4e8-46c9-ad85-15f60053f247",
   "metadata": {},
   "outputs": [],
   "source": [
    "from math import e\n",
    "\n",
    "def poidis(x, y):\n",
    "    result = (e**(-y)*y**x)/fact(x)\n",
    "    return result"
   ]
  },
  {
   "cell_type": "code",
   "execution_count": 62,
   "id": "fbbf51ff-eea8-4e00-8325-f38b4d901627",
   "metadata": {},
   "outputs": [
    {
     "name": "stdout",
     "output_type": "stream",
     "text": [
      "0.10081881344492451\n"
     ]
    }
   ],
   "source": [
    "y=3\n",
    "x=5\n",
    "print(poidis(x, y))"
   ]
  },
  {
   "cell_type": "markdown",
   "id": "5870bc5f-6298-4ba7-a7d7-2159813a2d1a",
   "metadata": {},
   "source": [
    "**CDF**:\n",
    "\n",
    "$ \\displaystyle P(X \\leq x) = \\frac{\\lceil(\\lfloor x+1 \\rfloor, \\lambda)}{\\lfloor x! \\rfloor} $"
   ]
  },
  {
   "cell_type": "code",
   "execution_count": 67,
   "id": "6d266bde-766e-4c3b-b3d3-7346451bb291",
   "metadata": {},
   "outputs": [],
   "source": [
    "def pd_cdf(x, y, up):\n",
    "    pd = 0\n",
    "    for i in range(x+1):\n",
    "        pd += poidis(i, y)\n",
    "    if up == True:\n",
    "        pd = 1-pd\n",
    "    return pd"
   ]
  },
  {
   "cell_type": "code",
   "execution_count": 68,
   "id": "20653577-8801-44df-9f5d-a003d7366f67",
   "metadata": {},
   "outputs": [
    {
     "data": {
      "text/plain": [
       "0.9160820579686967"
      ]
     },
     "execution_count": 68,
     "metadata": {},
     "output_type": "execute_result"
    }
   ],
   "source": [
    "pd_cdf(5, 3, False)"
   ]
  },
  {
   "cell_type": "markdown",
   "id": "bd0d2fe2-4f8f-481a-b06d-109d4326a30e",
   "metadata": {},
   "source": [
    "Expected value:\n",
    "\n",
    "$ E(X) = \\lambda $\n",
    "\n",
    "Variance:\n",
    "\n",
    "$ V(X) = \\lambda $"
   ]
  },
  {
   "cell_type": "markdown",
   "id": "d3efaabf-41d8-4fb6-a174-8fd5824b9c41",
   "metadata": {},
   "source": [
    "**Setting**:\n",
    "\n",
    "Exclusive Vines import Argentinian wine into Australia.<br>\n",
    "They've begun advertising on Facebook to direct traffict to<br>\n",
    "their website where customers can order wine online.<br>\n",
    "The number of click-through sales from the ad is Poisson<br>\n",
    "distributed with a mean of 12 click-through sales per day.\n",
    "\n",
    "**Tasks**:\n",
    "Find the probability of getting:\n",
    "* Exactly 10 click-through sales in the first day\n",
    "* At least 10 click-through sales in the first day\n",
    "* More than one sale in the first hour"
   ]
  },
  {
   "cell_type": "code",
   "execution_count": 70,
   "id": "060ff101-af28-47de-9217-448b1e494581",
   "metadata": {},
   "outputs": [
    {
     "name": "stdout",
     "output_type": "stream",
     "text": [
      "Probability of exactly 10 c-t sales in the first day: 0.1048372558836594\n",
      "Probability of at least 10 c-t sales in the first day: 0.7576078383294875\n"
     ]
    }
   ],
   "source": [
    "y = 12\n",
    "\n",
    "print(f\"Probability of exactly 10 c-t sales in the first day: {poidis(10, y)}\")\n",
    "print(f\"Probability of at least 10 c-t sales in the first day: {pd_cdf(9, y, True)}\")"
   ]
  },
  {
   "cell_type": "code",
   "execution_count": 71,
   "id": "313f5b0a-77c2-4c35-9196-698ed26841ab",
   "metadata": {},
   "outputs": [
    {
     "name": "stdout",
     "output_type": "stream",
     "text": [
      "Probability of more than one sale in the first hour: 0.09020401043104986\n"
     ]
    }
   ],
   "source": [
    "y = 12/24\n",
    "\n",
    "print(f\"Probability of more than one sale in the first hour: {pd_cdf(1, y, True)}\")"
   ]
  },
  {
   "cell_type": "markdown",
   "id": "9bf870fd-77f3-4c3d-a525-cc7514e48d16",
   "metadata": {},
   "source": [
    "### Hypergeometric Distribution\n",
    "\n",
    "relevant to card-playing, particularly Poker\n",
    "\n",
    "*Overview*:\n",
    "* Discrete distribution\n",
    "* Equivalent to the binomial distribution<br>\n",
    "  but WITHOUT REPLACEMENT\n",
    "* The probability of a success changes with each draw\n",
    "* Defined for 3 parameters: N, A, and n:\n",
    " - N   Total population size                  (52 cards)\n",
    " - A   Total items of interest in population  (13 spades)\n",
    " - n   Sample size                            (5 cards in hand)\n",
    " \n",
    "**PMF**:\n",
    "\n",
    "$\n",
    "\\displaystyle P(X = x) = \\frac{\\binom{A}{x}\\binom{N-A}{n-x}}{\\binom{N}{n}}  = \\frac{\\frac{A!}{{(A-x)!x!}} \\frac{(N-A)!}{((N-A)-(n-x))!(n-x)!}}{\\frac{N!}{(N-n)!n!}} \n",
    "$\n",
    "\n",
    "*Expected Value*:\n",
    "\n",
    "$ E(X) = n\\frac{A}{N} $\n",
    "\n",
    "*Variance*:\n",
    "\n",
    "$ V(X) = n\\frac{A}{N}\\frac{(N-A)}{N}\\frac{(N-n)}{N-1} $"
   ]
  },
  {
   "cell_type": "code",
   "execution_count": 106,
   "id": "d4223f8f-50e8-49e9-add7-3acfefb02f03",
   "metadata": {},
   "outputs": [],
   "source": [
    "def hypergeo(N, A, n, x):\n",
    "    result = ((fact(A)/(fact(A-x)*fact(x))) * (fact(N-A)/(fact((N-A)-(n-x))*fact(n-x)))) / (fact(N)/(fact(N-n)*fact(n)))\n",
    "    return result"
   ]
  },
  {
   "cell_type": "code",
   "execution_count": 107,
   "id": "2cfda827-be62-47b7-8845-bb6b94d65d66",
   "metadata": {},
   "outputs": [
    {
     "name": "stdout",
     "output_type": "stream",
     "text": [
      "0.2742797118847539\n"
     ]
    }
   ],
   "source": [
    "print(hypergeo(52, 13, 5, 2))"
   ]
  },
  {
   "cell_type": "code",
   "execution_count": 108,
   "id": "f2ab78c4-06c7-4c6e-917b-055730b07d3b",
   "metadata": {},
   "outputs": [],
   "source": [
    "def hgd_cdf(N, A, n, x, up):\n",
    "    hgdsum = 0\n",
    "    for i in range(x+1):\n",
    "        hgdsum += hypergeo(N, A, n, i)\n",
    "    if up == True:\n",
    "        hgdsum = 1-hgdsum\n",
    "    return hgdsum"
   ]
  },
  {
   "cell_type": "code",
   "execution_count": 109,
   "id": "203fb31a-2232-48c3-9f45-ed9b6d4ff2f6",
   "metadata": {},
   "outputs": [
    {
     "name": "stdout",
     "output_type": "stream",
     "text": [
      "0.9072328931572629\n"
     ]
    }
   ],
   "source": [
    "print(hgd_cdf(52, 13, 5, 2, False))"
   ]
  },
  {
   "cell_type": "markdown",
   "id": "4ac07202-5e44-4f61-90da-f0bba8b5a1e8",
   "metadata": {},
   "source": [
    "*Setting*:\n",
    "\n",
    "Texas-hold-em is a variant of poker where each player<br>\n",
    "holds two cards. Five additional cards are then dealt<br>\n",
    "as \"common\" cards for all players, thus each player <br>\n",
    "can see a total of seven cards. A \"flush\" occurs when<br>\n",
    "a player can see a set of five cards from the same suit.\n",
    "\n",
    "Poz is dealt following hand in a game of <br>\n",
    "texas hold-em against his long-time rival, Puck:\n",
    "\n",
    "`Queen of Diamond`\n",
    "`Jack of Diamond`\n",
    "\n",
    "*Tasks*:\n",
    "\n",
    "- What is the probability that Poz scores a \"flush\"?"
   ]
  },
  {
   "cell_type": "markdown",
   "id": "f5008eb9-2d1e-4d66-a6d7-42f1145b0286",
   "metadata": {},
   "source": [
    "N = 50, because he already has 2 in his hand (not accounting for other players)<br>\n",
    "A = 11, because he already has 2 in his hand<br>\n",
    "n = 5<br>\n",
    "x = 3, 4, 5 (amount of diamond cards that need to be in the common cards)\n",
    "\n",
    "He can also get a \"flush\" if all 5 common cards are of the same suit (Hearts, Spades, Clubs)"
   ]
  },
  {
   "cell_type": "code",
   "execution_count": 120,
   "id": "69a5bd57-a105-41fb-bfd6-b92d9ffea097",
   "metadata": {},
   "outputs": [
    {
     "name": "stdout",
     "output_type": "stream",
     "text": [
      "The probability of a flush is: 0.06582057429817435\n"
     ]
    }
   ],
   "source": [
    "print(f\"The probability of a flush is: {hgd_cdf(50, 11, 5, 2, True) + 3*hypergeo(50, 13, 5, 5)}\")"
   ]
  },
  {
   "cell_type": "markdown",
   "id": "90fca7db-f871-492c-8ed9-772e048c9a7c",
   "metadata": {},
   "source": [
    "Puck is dealt following hand:<br>\n",
    "`3 of Spades` `8 of Hearts`\n",
    "\n",
    "What's his probability of scoring a \"flush\"?"
   ]
  },
  {
   "cell_type": "code",
   "execution_count": 122,
   "id": "947f8a9b-3772-4dc6-8662-ebdb1578e81e",
   "metadata": {},
   "outputs": [
    {
     "name": "stdout",
     "output_type": "stream",
     "text": [
      "The probability of a flush is: 0.01971813702354228\n"
     ]
    }
   ],
   "source": [
    "print(f\"The probability of a flush is: {hgd_cdf(50, 12, 5, 3, True)*2 + 2* hypergeo(50, 13, 5, 5)}\")"
   ]
  },
  {
   "cell_type": "markdown",
   "id": "e1b52266-653f-43d8-909a-1f504b149250",
   "metadata": {},
   "source": [
    "For future calculation:\n",
    "\n",
    "What about a full house?\n",
    "possibilities:\n",
    "- another queen & two jacks\n",
    "- another jack & two queens\n",
    "- another jack & three other identical face cards\n",
    "- another queen & three other identical face cards\n",
    "- a full house within the common cards"
   ]
  },
  {
   "cell_type": "code",
   "execution_count": 123,
   "id": "34dc2b0e-a655-4a1c-8a7f-58f8ae23d1ce",
   "metadata": {},
   "outputs": [],
   "source": [
    "# # another queen:\n",
    "# queen = hgd_cdf(50, 3, 5, 0, True)\n",
    "# two_jacks = hgd_cdf(50, 3, 5, 1, True)"
   ]
  },
  {
   "cell_type": "markdown",
   "id": "30522550-5503-47ba-82c4-5bb928cbea2a",
   "metadata": {},
   "source": []
  }
 ],
 "metadata": {
  "kernelspec": {
   "display_name": "Python 3 (ipykernel)",
   "language": "python",
   "name": "python3"
  },
  "language_info": {
   "codemirror_mode": {
    "name": "ipython",
    "version": 3
   },
   "file_extension": ".py",
   "mimetype": "text/x-python",
   "name": "python",
   "nbconvert_exporter": "python",
   "pygments_lexer": "ipython3",
   "version": "3.8.10"
  }
 },
 "nbformat": 4,
 "nbformat_minor": 5
}
