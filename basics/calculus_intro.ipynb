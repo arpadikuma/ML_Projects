{
 "cells": [
  {
   "cell_type": "markdown",
   "id": "5515c77e-7661-483b-88ca-6babadd9581d",
   "metadata": {},
   "source": [
    "# Limits, Derivatives & Integration"
   ]
  },
  {
   "cell_type": "markdown",
   "id": "c57d1381-0de1-45b2-b5b0-dda8dcf62a4e",
   "metadata": {},
   "source": [
    "## Limits"
   ]
  },
  {
   "cell_type": "markdown",
   "id": "907faeea-cac3-42ce-97c1-4fa828857d58",
   "metadata": {},
   "source": [
    "$\n",
    "\\displaystyle f(x) = \\frac {x^2-4}{x-2} \\\\\n",
    "\\displaystyle f(2) = \\frac {2^2-4}{2-2} \\mathbf{\\; can't \\; evaluate!}\\\\\n",
    "\\\\\n",
    "\\displaystyle f(2.1) = \\frac {2.1^2 - 4}{2.1 - 2} = 4.1 \\\\\n",
    "\\displaystyle f(2.01) = \\frac{2.01^2 - 4}{2.01 - 2} = 4.01 \\\\\n",
    "\\\\\n",
    "\\displaystyle \\lim\\limits_{x \\to 2} \\frac{x^2 - 4}{x - 2} = \\lim\\limits_{x \\to 2} \\frac{(x + 2)(x - 2)}{(x - 2)} = \\lim\\limits_{x \\to 2} (x + 2) = 2 + 2 = 4 \\\\\n",
    "$"
   ]
  },
  {
   "cell_type": "markdown",
   "id": "0316cc9f-6cfc-4646-ad97-657897a361c2",
   "metadata": {},
   "source": [
    "## Derivatives"
   ]
  },
  {
   "cell_type": "markdown",
   "id": "af391a07-94e8-41a5-9ae0-92d6bc8d3777",
   "metadata": {},
   "source": [
    "$\n",
    "\\displaystyle \\frac {d}{dx}[x^n] = nx^{n-1}\\\\\n",
    "\\displaystyle \\frac {d}{dx}[x^2] = 2x^{2-1} = 2x \\\\\n",
    "\\displaystyle \\frac {d}{dx}[x^3] = 3x^{3-1} = 3x^2 \\\\\n",
    "\\displaystyle \\frac {d}{dx}[x^4] = 4x^{4-1} = 4x^3 \\\\\n",
    "$"
   ]
  },
  {
   "cell_type": "code",
   "execution_count": 52,
   "id": "9ea61c7d-a476-4a83-94c0-c06a517c959d",
   "metadata": {
    "tags": []
   },
   "outputs": [
    {
     "name": "stdout",
     "output_type": "stream",
     "text": [
      "slope at 3: 6\n",
      "[-15.          -9.66666667  -4.33333333   1.           6.33333333\n",
      "  11.66666667  17.          22.33333333  27.66666667  33.        ]\n",
      "slope at 3: 6\n"
     ]
    },
    {
     "data": {
      "text/plain": [
       "[<matplotlib.lines.Line2D at 0xffff453b2fd0>]"
      ]
     },
     "execution_count": 52,
     "metadata": {},
     "output_type": "execute_result"
    },
    {
     "data": {
      "image/png": "[encoded data removed]",
      "text/plain": [
       "<Figure size 640x480 with 1 Axes>"
      ]
     },
     "metadata": {},
     "output_type": "display_data"
    }
   ],
   "source": [
    "import numpy as np\n",
    "import matplotlib.pyplot as plt\n",
    "\n",
    "# define parabola\n",
    "def f(x, xpo):\n",
    "    return x**xpo\n",
    "\n",
    "# define exponent\n",
    "xpo = 2\n",
    "\n",
    "# define parabola derivative\n",
    "def slope(x, y):\n",
    "    print(f\"slope at {x}: {y*x**(y-1)}\")\n",
    "    return y*x**(y-1)\n",
    "\n",
    "# define x data range for parabola\n",
    "x = np.linspace(-5*xpo/2, 5*xpo/2, 100)\n",
    "\n",
    "# chose point to plot tangent line\n",
    "x1 = 3\n",
    "y1 = f(x1, xpo)\n",
    "\n",
    "# define tangent line\n",
    "# y = m * (x - x1) + y1\n",
    "def line(x, x1, y1, xpo):\n",
    "    return slope(x1, xpo) * (x - x1) + y1\n",
    "\n",
    "# define x data range for tangent line\n",
    "xrange = np.linspace(x1-2*xpo, x1+2*xpo, 10)\n",
    "\n",
    "print(line(xrange, x1, y1, xpo))\n",
    "\n",
    "# plot the figure\n",
    "plt.figure()\n",
    "plt.plot(x, f(x, xpo))\n",
    "plt.scatter(x1, y1, color='C1', s=50)\n",
    "plt.plot(xrange, line(xrange, x1, y1, xpo), \"C1--\", lw=2)"
   ]
  },
  {
   "cell_type": "markdown",
   "id": "d7f0c2ca-bbee-4475-b48c-a72bfcd10860",
   "metadata": {},
   "source": [
    "**Using limit function to find the slope of the derivative line**\n",
    "\n",
    "$ \n",
    "\\displaystyle f(x) = x^3 \\\\\n",
    "\\displaystyle f'(x) = 3x^{3-1} \\\\\n",
    "\\displaystyle x = 2 \\\\\n",
    "\\displaystyle m_{tan} = f'(2) = 3(2)^2 = 12 \\\\\n",
    "\\\\\n",
    "\\mathit{***}\\\\\n",
    "\\displaystyle \\mathit{using \\; secants } \\\\\n",
    "\\displaystyle m_{sec} = \\frac{f(2.1) - f(1.9)}{2.1 - 1.9} = \\frac {2.1^3 - 1.9^3}{0.2} = 12.01 \\\\\n",
    "\\\\\n",
    "\\mathit{***}\\\\\n",
    "\\displaystyle \\mathit{using \\; limit \\; function} \\\\\n",
    "\\displaystyle \\lim\\limits_{x \\to 2} \\frac{f(x) - f(2)}{x - 2} = \\lim\\limits_{x \\to 2} \\frac{x^3 - 8}{x - 2} \\\\\n",
    "\\displaystyle = \\lim\\limits_{x \\to 2}\\frac{(x - 2)(x^2 + 2x + 4)}{x - 2} = \\lim\\limits_{x \\to 2}(x^2 + 2x +4) \\\\\n",
    "\\displaystyle => 2^2 + 2(2) + 4 = 4 + 4 + 4 = 12\\\\\n",
    "$"
   ]
  },
  {
   "cell_type": "markdown",
   "id": "e6137a8c-6fe7-4652-aaa8-4bfcf5eadc6b",
   "metadata": {},
   "source": [
    "**The derivative is a function that gives us the slope of the tangent line at some x value**"
   ]
  },
  {
   "cell_type": "markdown",
   "id": "5e19c182-7fcb-4259-adb7-62bbe35fab55",
   "metadata": {},
   "source": [
    "## Integration\n",
    "\n",
    "**Process of finding the anti-derivative**\n",
    "\n",
    "$ \n",
    "\\displaystyle \\frac {d}{dx}[x^4] = 4x^3 \\\\\n",
    "\\displaystyle \\int4x^3dx = \\frac{4x^{3+1}}{3+1} + c = \\frac{4x^4}{4} + c = x^4 +c \\\\\n",
    "\\displaystyle \\int x^ndx = \\frac{x^{n + 1}}{n - 1} + c\n",
    "$"
   ]
  },
  {
   "cell_type": "markdown",
   "id": "85156444-05e7-4285-8b3d-fc09a91dbeb4",
   "metadata": {},
   "source": [
    "**difference between derivatives and integration**\n",
    "\n",
    "*derivatives* are useful for calculating the **instantaneous rate of change** (slope) $ slope = \\frac {\\Delta y} {\\Delta x}$\n",
    "\n",
    "*integration* is useful to calculate the **area under the curve** (AUC) $ A = xy $"
   ]
  },
  {
   "cell_type": "markdown",
   "id": "2c1093bc-24ec-49eb-977b-a4d84811f7ef",
   "metadata": {},
   "source": [
    "**Task**\n",
    "\n",
    "1. Consider the function $A(t) = 0.01t^2 + 0.5t + 100$ which represents the amount of water (gallons) in a tank at any time t (minutes).<br>\n",
    " (a) Calculate the amount of water at t = 0, 9, 10, 11 and 20 min.<br>\n",
    " (b) How fast is the amount of water changing in the tank at t = 10 min?"
   ]
  },
  {
   "cell_type": "code",
   "execution_count": 54,
   "id": "edcaa3cb-ddf9-4741-8657-209163c666aa",
   "metadata": {},
   "outputs": [
    {
     "name": "stdout",
     "output_type": "stream",
     "text": [
      "Solution for (a):\n",
      "AUC for 0: 100.0\n",
      "AUC for 9: 105.31\n",
      "AUC for 10: 106.0\n",
      "AUC for 11: 106.71\n",
      "AUC for 20: 114.0\n"
     ]
    }
   ],
   "source": [
    "print(\"Solution for (a):\")\n",
    "for t in [0, 9, 10, 11, 20]:\n",
    "    auc = 0.01*t**2 + 0.5*t + 100\n",
    "    print(f\"AUC for {t}: {auc}\")"
   ]
  },
  {
   "cell_type": "markdown",
   "id": "211d05c9-bfee-4aaa-b3a5-ca685a03cb24",
   "metadata": {},
   "source": [
    "(b) derivative of function<br>\n",
    "$A'(t) = 0.01(2t^1) + 0.5(1t^0) + 0 $"
   ]
  },
  {
   "cell_type": "code",
   "execution_count": 56,
   "id": "65bf8ff9-a177-4cb5-b56e-3f86d17b7597",
   "metadata": {},
   "outputs": [
    {
     "name": "stdout",
     "output_type": "stream",
     "text": [
      "Solution for (b):\n",
      "The amount of water at the 10 minute mark is changing at 0.7 gal/min\n"
     ]
    }
   ],
   "source": [
    "print(\"Solution for (b):\")\n",
    "print(f\"The amount of water at the 10 minute mark is changing at {0.01*2*10 + 0.5} gal/min\")"
   ]
  },
  {
   "cell_type": "markdown",
   "id": "6a298ee9-d067-4054-b0e8-d10e43c12d1b",
   "metadata": {},
   "source": [
    "bonus: calculate average rate of change with the slope surrounding 10 min mark\n",
    "$m_{sec} = \\frac{\\Delta y}{\\Delta x}$"
   ]
  },
  {
   "cell_type": "code",
   "execution_count": 59,
   "id": "763898ae-b482-4f6e-9cb0-fa394cce5859",
   "metadata": {},
   "outputs": [
    {
     "name": "stdout",
     "output_type": "stream",
     "text": [
      "0.7\n"
     ]
    }
   ],
   "source": [
    "x1 = 11\n",
    "x2 = 9\n",
    "\n",
    "delta_y = (0.01*x1**2 + 0.5*x1 + 100) - (0.01*x2**2 + 0.5*x2 + 100)\n",
    "delta_x = x1-x2\n",
    "\n",
    "m_sec = delta_y/delta_x\n",
    "\n",
    "print(round(m_sec, 2))"
   ]
  },
  {
   "cell_type": "markdown",
   "id": "aeb08f4d-3884-4e99-92dd-75fea1f99499",
   "metadata": {},
   "source": [
    "alternatively, we could have subtracted the results for solution (a) at 9 from 10 to get 0.69<br>\n",
    "and at 10 from 11 to get 0.71. The average of those is 0.7"
   ]
  },
  {
   "cell_type": "markdown",
   "id": "e10c7f3f-64c2-4eff-b6aa-c57321cf4f36",
   "metadata": {},
   "source": [
    "2. The rate of water flowing in a tank can be represented by the function $ R(t) = 0.5t + 20 $ where R(t) represents the number of gallons of water flowing per minute and t is the time in minutes. How much water will accumulate in the tank from $t = 20$ to $t = 100$ min?"
   ]
  },
  {
   "cell_type": "markdown",
   "id": "0951540f-e886-4f5a-9446-eda871865f7d",
   "metadata": {},
   "source": [
    "Net Change<br>\n",
    "$ \\displaystyle \\int_a^b R(t)dt $ -> definite integral, results in a number<br>\n",
    "<br>\n",
    "$ \\displaystyle \\int R(t)dt $ -> indefinite integral, results in a function\n",
    "\n",
    "Calculation<br>\n",
    "$\n",
    "\\displaystyle \\int_{20}^{100} (0.5t' + 20)dt \\\\\n",
    "\\displaystyle = \\frac{0.5t^2}{2} + \\frac{20t^1}{1} \\; \\bigg\\rvert_{20}^{100}\\\\\n",
    "\\displaystyle = \\left[ \\frac{0.5(100)^2}{2} + 20(100) \\right] - \\left[ \\frac{0.5(20)^2}{2} + 20(20) \\right] \\\\\n",
    "$"
   ]
  },
  {
   "cell_type": "code",
   "execution_count": 60,
   "id": "4639fb4e-165d-45a9-8d69-b1c23efcd02f",
   "metadata": {},
   "outputs": [],
   "source": [
    "def flowfunc(x):\n",
    "    result = ((0.5*(x**2))/2) + (20*x)\n",
    "    return result\n",
    "\n",
    "def flowcalc(lowr, uppr):\n",
    "    x1 = flowfunc(uppr)\n",
    "    x2 = flowfunc(lowr)\n",
    "    return x1-x2"
   ]
  },
  {
   "cell_type": "code",
   "execution_count": 62,
   "id": "b9d872bc-2a9d-474c-9655-2fbd0e6cf767",
   "metadata": {},
   "outputs": [
    {
     "name": "stdout",
     "output_type": "stream",
     "text": [
      "Between t=20 and t=100, 4000.0 gallons of water will accumulate.\n"
     ]
    }
   ],
   "source": [
    "print(f\"Between t=20 and t=100, {flowcalc(20, 100)} gallons of water will accumulate.\")"
   ]
  },
  {
   "cell_type": "markdown",
   "id": "8898dad5-a3f9-4d6c-877b-a3d9ad25460e",
   "metadata": {},
   "source": [
    "## Summary\n",
    "\n",
    "* Limits allow us to evaluate a function\n",
    "\n",
    "* Derivatives are functions that allow us to calculate the instantaneous rate of change of a function at any instant time<br>the instantaneous rate of change is equivalent to the slope of the tangent line at any instant of time.<br>The slope of the tangent line can be approximated by the slope of the secant line, which is equivalent to an average rate of change between two points\n",
    "\n",
    "* Integration is a process that allows us to determine how much something accumulates over time<br>we can find the value by evaluating the definite integral or by calculating the AUC"
   ]
  },
  {
   "cell_type": "code",
   "execution_count": null,
   "id": "bd3bb862-60a8-4529-b4a3-27d7168746cb",
   "metadata": {},
   "outputs": [],
   "source": []
  }
 ],
 "metadata": {
  "kernelspec": {
   "display_name": "Python 3 (ipykernel)",
   "language": "python",
   "name": "python3"
  },
  "language_info": {
   "codemirror_mode": {
    "name": "ipython",
    "version": 3
   },
   "file_extension": ".py",
   "mimetype": "text/x-python",
   "name": "python",
   "nbconvert_exporter": "python",
   "pygments_lexer": "ipython3",
   "version": "3.8.10"
  }
 },
 "nbformat": 4,
 "nbformat_minor": 5
}
